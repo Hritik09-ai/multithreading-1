{
 "cells": [
  {
   "cell_type": "code",
   "execution_count": 1,
   "id": "397553a3-3618-4de1-9724-54800f46e4e2",
   "metadata": {},
   "outputs": [],
   "source": [
    "# QUESTION.1 What is multithreading in python? Why is it used? Name the module used to handle in python.\n",
    "# ANSWER Multthreading in python refers to the concurrent execution of multiple threads within a single process.Each thread\n",
    "# operates independently, sharing the same resources like memory space, file handles, etc.It's used to archieve parallelism\n",
    "# and improve the perfomanc of program by allowing them to execute multiple tasks simultaneously.\n",
    "# The 'threading' module is used to handle thread in python. By utilizing the 'threading' module, you can creat and control \n",
    "# multiple threads, allowing your program to perform tasks."
   ]
  },
  {
   "cell_type": "code",
   "execution_count": null,
   "id": "f0a416a8-b06e-4784-acd2-5a02c98e23d6",
   "metadata": {},
   "outputs": [],
   "source": []
  },
  {
   "cell_type": "code",
   "execution_count": 3,
   "id": "fee20fea-b2c2-4455-9d79-397954ae0ad1",
   "metadata": {},
   "outputs": [],
   "source": [
    "# QUESTION.2 Why threading module used? Write the use of the following functions:\n",
    "# 1. activecount()\n",
    "# 2. currentThread()\n",
    "# 3. enumerated()\n",
    "# ANSWER The threading module in python is used to create and manage threds, which are smaller units of program that can \n",
    "# concurrently. Threrads are usedful for perforaming in certain scenarios.\n",
    "# 1. 'activecount()' : This function return the number of Thread object current alive. It includes both daemon and non-daemon\n",
    "# threads.\n",
    "# 2. 'currentThread()':It returns the current thread object corresponding to the caller's thread of control.\n",
    "# 3. 'enmerate()': This function returns a list of all thread object currently alive. By default, it include both daemon and \n",
    "# non-daemon threads."
   ]
  },
  {
   "cell_type": "code",
   "execution_count": null,
   "id": "d26aac95-d542-4cbe-b532-c1b92787e3ce",
   "metadata": {},
   "outputs": [],
   "source": []
  },
  {
   "cell_type": "code",
   "execution_count": 4,
   "id": "895bd00d-4aa3-45ec-8757-2060260779fa",
   "metadata": {},
   "outputs": [],
   "source": [
    "# QUESTION.3 Explain in the following functions:\n",
    "# 1. run()\n",
    "# 2. start()\n",
    "# 3. join()\n",
    "# 4. isAlive()\n",
    "# ANSWER 1.run():  This methord represent the threads activity. It may be overriden in a subclass instead of standard run()\n",
    "# method, the object invokes the function passed to the it's constructor as the target argument.\n",
    "# 2.start(): This method starts the thread's activity. It must be called once a thread object is created. It automatically \n",
    "# invoke object's run() method in a separate thread. If called more than once, a RuntimeError will be raised.\n",
    "# 3. This method block the calling thread until the thread whose join() method is called terminates. The termination may be\n",
    "# either normal, because of an unhandled exception - or until the option timeout occures. It can be called many times. The \n",
    "# join() raises a RuntimeError if an attempt is made to join the curent thread. Attempt to join() a thread before it has been \n",
    "# started also raises the same exception.\n",
    "# 4. isAlive(): This method return whether the thread is alive. It return whether the thread is alive. It return True just \n",
    "# before claaing run() method terminates.\n"
   ]
  },
  {
   "cell_type": "code",
   "execution_count": null,
   "id": "73289ebc-f1ce-4f99-bec5-a3f0b763aa6d",
   "metadata": {},
   "outputs": [],
   "source": []
  },
  {
   "cell_type": "code",
   "execution_count": 7,
   "id": "245bc06b-98f8-41af-9ec0-01ff19b6cfaf",
   "metadata": {},
   "outputs": [
    {
     "name": "stderr",
     "output_type": "stream",
     "text": [
      "Thread-7 (print_sq) sq of (i): 1\n",
      "Thread-8 (print_cubes) cube of (i): 1\n",
      "Thread-7 (print_sq) sq of (i): 4\n",
      "Thread-8 (print_cubes) cube of (i): 8\n",
      "Thread-7 (print_sq) sq of (i): 9\n",
      "Thread-8 (print_cubes) cube of (i): 27\n",
      "Thread-7 (print_sq) sq of (i): 16\n",
      "Thread-8 (print_cubes) cube of (i): 64\n",
      "Thread-7 (print_sq) sq of (i): 25\n",
      "Thread-8 (print_cubes) cube of (i): 125\n",
      "Thread-7 (print_sq) sq of (i): 36\n",
      "Thread-8 (print_cubes) cube of (i): 216\n",
      "Thread-7 (print_sq) sq of (i): 49\n",
      "Thread-8 (print_cubes) cube of (i): 343\n",
      "Thread-7 (print_sq) sq of (i): 64\n",
      "Thread-8 (print_cubes) cube of (i): 512\n",
      "Thread-7 (print_sq) sq of (i): 81\n",
      "Thread-8 (print_cubes) cube of (i): 729\n",
      "Thread-7 (print_sq) sq of (i): 100\n",
      "Thread-8 (print_cubes) cube of (i): 1000\n",
      "MainThread both threads have finished.\n"
     ]
    }
   ],
   "source": [
    "# QUESTION.4 Write a python program to create two threads. Thread one must print the list of square and thread two must print\n",
    "# the list of cubes. \n",
    "# ANSWER \n",
    "import logging\n",
    "import threading\n",
    "\n",
    "logging.basicConfig(filename='test.log',level=logging.DEBUG,format='%(threadName)-10s %(message)s')\n",
    "\n",
    "def print_sq():\n",
    "    for i in range(1,11):\n",
    "        logging.debug(f\"sq of (i): {i ** 2}\")\n",
    "def print_cubes():\n",
    "    for i in range(1,11):\n",
    "        logging.debug(f\"cube of (i): {i ** 3}\")\n",
    "if __name__ == \"__main__\":\n",
    "    square_thread = threading.Thread(target=print_sq)\n",
    "    cube_thread = threading.Thread(target=print_cubes)\n",
    "    \n",
    "    square_thread.start()\n",
    "    cube_thread.start()\n",
    "    \n",
    "    square_thread.join()\n",
    "    square_thread.join()\n",
    "    \n",
    "    logging.debug('both threads have finished.')\n",
    "    "
   ]
  },
  {
   "cell_type": "code",
   "execution_count": null,
   "id": "6ac8cbd0-1fdd-49f5-922b-5702cf2b2b0d",
   "metadata": {},
   "outputs": [],
   "source": []
  },
  {
   "cell_type": "code",
   "execution_count": 9,
   "id": "b3c37247-7eaa-4247-97b2-d092ace5b4f7",
   "metadata": {},
   "outputs": [],
   "source": [
    "# QUESTION.5 state advantages and disadvantages of multithreading.\n",
    "# ANSWER Advantages of Multithreading:\n",
    "\n",
    "#1. Improved Performance:\n",
    "#Multithreading can lead to better utilization of available CPU cores, resulting in faster execution of tasks.\n",
    "#It is particularly effective for applications that involve parallelizable tasks, such as multimedia processing\n",
    "#, data analysis, and simulations.\n",
    "\n",
    "#2. Responsiveness:\n",
    "#Multithreading can enhance the responsiveness of applications by allowing certain tasks to run in the background while the \n",
    "#main thread handles user interactions.\n",
    "#This is crucial for maintaining a smooth user experience in applications like GUIs and games.\n",
    "\n",
    "#3. Resource Sharing:\n",
    "#Threads within the same process can easily share data and resources, reducing the overhead of inter-process communication.\n",
    "#This can lead to efficient utilization of memory and other system resources.\n",
    "\n",
    "#Disadvantages of Multithreading:\n",
    "\n",
    "#1. Complexity:\n",
    "\n",
    "#Multithreaded programming is inherently more complex than single-threaded programming.\n",
    "#Race conditions, deadlocks, and synchronization issues can arise if not properly managed, making debugging and maintenance\n",
    "#challenging.\n",
    "\n",
    "#2. Synchronization Overhead:\n",
    "#Coordinating threads and ensuring data consistency often requires synchronization mechanisms like locks, semaphores, and \n",
    "#barriers.\n",
    "#These mechanisms introduce overhead and can negatively impact performance if used excessively.\n",
    "\n",
    "#3. Debugging and Testing:\n",
    "#Debugging multithreaded applications can be difficult due to the non-deterministic nature of thread execution."
   ]
  },
  {
   "cell_type": "code",
   "execution_count": null,
   "id": "505be8dd-c917-47f7-b2a9-36783286622c",
   "metadata": {},
   "outputs": [],
   "source": []
  },
  {
   "cell_type": "code",
   "execution_count": null,
   "id": "3ce9bf80-aa79-43c0-a8fb-5a37dcc627ae",
   "metadata": {},
   "outputs": [],
   "source": [
    "# QUESTION.6 Explain deadlocks and race conditions.\n",
    "# ANSWER Deadlock:\n",
    "#A deadlock is a situation in which two or more threads or processes are unable to proceed because they are each waiting for a\n",
    "#resource that the other holds. In other words, they become stuck in a state of mutual waiting, and none of them can make any\n",
    "#progress. Deadlocks can occur when the following conditions are met:\n",
    "\n",
    "#Mutual Exclusion: At least one resource must be held in a non-shareable mode, meaning only one process can use it at a time.\n",
    "#Hold and Wait: A process must be holding at least one resource and waiting to acquire additional resources.\n",
    "#No Preemption: Resources cannot be forcibly taken away from a process; they can only be released voluntarily.\n",
    "#Circular Wait: A circular chain of two or more processes must exist, where each process is waiting for a resource held by the\n",
    "#next process in the chain.\n",
    "\n",
    "Race Condition:\n",
    "A race condition occurs when the behavior of a program depends on the relative timing or order of execution of multiple threads or processes. It's a situation where the output of a program becomes unpredictable because the threads are \"racing\" to access and modify shared resources without proper synchronization. Race conditions can result in incorrect values, crashes, or other unexpected behavior."
   ]
  }
 ],
 "metadata": {
  "kernelspec": {
   "display_name": "Python 3 (ipykernel)",
   "language": "python",
   "name": "python3"
  },
  "language_info": {
   "codemirror_mode": {
    "name": "ipython",
    "version": 3
   },
   "file_extension": ".py",
   "mimetype": "text/x-python",
   "name": "python",
   "nbconvert_exporter": "python",
   "pygments_lexer": "ipython3",
   "version": "3.10.8"
  }
 },
 "nbformat": 4,
 "nbformat_minor": 5
}
